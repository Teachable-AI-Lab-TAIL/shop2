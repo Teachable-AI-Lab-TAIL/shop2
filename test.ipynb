{
 "cells": [
  {
   "cell_type": "code",
   "execution_count": 1,
   "metadata": {},
   "outputs": [],
   "source": [
    "from utils import Axiom"
   ]
  },
  {
   "cell_type": "code",
   "execution_count": 2,
   "metadata": {},
   "outputs": [],
   "source": [
    "numerator_x, numerator_y = 1, 1\n",
    "denominator_x, denominator_y = 6, 5\n",
    "operator = \"+\"\n",
    "state = set([('value', 'xn', numerator_x), ('value', 'yn', numerator_y), ('value', 'xd', denominator_x), ('value', 'yd', denominator_y),('operator', 'op', operator)])"
   ]
  },
  {
   "cell_type": "code",
   "execution_count": 3,
   "metadata": {},
   "outputs": [],
   "source": [
    "axiom = Axiom(head=('value-equality', '?x', '?y'), \n",
    "              conditions=[('value', '?x', '?v'), ('value', '?y', '?v'), (lambda x, y: x<y, '?x', '?y')])"
   ]
  },
  {
   "cell_type": "code",
   "execution_count": 5,
   "metadata": {},
   "outputs": [
    {
     "name": "stdout",
     "output_type": "stream",
     "text": [
      "PLAN:\n",
      "[[('intAdd', 'xn', 'yn', 'nom'), ('assign', 'xd', 'denom')]]\n",
      "\n",
      "OLD STATE:\n",
      "{('operator', 'op', '+'), ('value-equality', 'xd', 'yd'), ('value', 'yn', 1), ('value', 'xd', 6), ('value', 'xn', 1), ('value', 'yd', 6), ('value-equality', 'xn', 'yn')}\n",
      "\n",
      "NEW STATE:\n",
      "{('operator', 'op', '+'), ('value-equality', 'xd', 'yd'), ('value', 'denom', 6), ('value', 'xd', 6), ('value', 'yn', 1), ('value', 'xn', 1), ('value', 'yd', 6), ('value-equality', 'xn', 'yn'), ('value', 'nom', 2)}\n"
     ]
    }
   ],
   "source": [
    "from utils import Task, Operator, Method, Axiom\n",
    "from utils import SHOP2\n",
    "\n",
    "# Functions for operators for use\n",
    "def intMult(*args):\n",
    "    return args[0] * args[1]\n",
    "\n",
    "# Functions for operators for use\n",
    "def intAdd(*args):\n",
    "    return args[0] + args[1]\n",
    "\n",
    "#Domain Description\n",
    "Domain = {\n",
    "        \"axioms\": [\n",
    "            Axiom(head=('value-equality', '?x', '?y'), \n",
    "                  conditions=[('value', '?x', '?v'), ('value', '?y', '?v'), (lambda x, y: x<y, '?x', '?y')])\n",
    "                  ],\n",
    "        \"assign\": Operator(head=('assign', '?x', '?y'),\n",
    "                        conditions=[('value', '?x', '?vx')],\n",
    "                        effects=[('value', '?y', '?vx')]),\n",
    "\n",
    "        \"intAdd\": Operator(head=('intAdd', '?x', '?y', '?z'),\n",
    "                        conditions=[('value', '?x', '?vx'), ('value', '?y', '?vy')],\n",
    "                        effects=[('value', '?z', (intAdd, '?vx', '?vy'))]),\n",
    "\n",
    "        \"intMult\": Operator(head=('intMult', '?x', '?y', '?z'),\n",
    "                        conditions=[('value', '?x', '?vx'), ('value', '?y', '?vy')],\n",
    "                        effects=[('value', '?z', (intMult, '?vx', '?vy'))]),\n",
    "\n",
    "        \"fracAdd\": Method(head=('fracAdd', '?xn', '?yn', '?xd', '?yd'),\n",
    "                          conditions=[{('value', '?xn', '?vnx'), ('value', '?yn', '?vny'), ('value', '?xd', '?vd'), ('value', '?yd', '?vd')},\n",
    "                                      {('value', '?xn', '?vnx'), ('value', '?yn', '?vny'), ('value', '?xd', '?vxd'), ('value', '?yd', '?vyd')}],\n",
    "                          subtasks=[[Task(head=('intAdd', 'xn', 'yn', 'nom'), primitive=True), Task(head=('assign', 'xd', 'denom'), primitive=True)],\n",
    "                                    ([(Task(head=('intMult', 'xn', 'yd', 'nom1'), primitive=True), Task(head=('intMult', 'yn', 'xd', 'nom2'), primitive=True)), Task(head=('intAdd', 'nom1', 'nom2', 'nom'), primitive=True)],\n",
    "                                     Task(head=('intMult', 'xd', 'yd', 'denom'), primitive=True))]),\n",
    "\n",
    "        \"fracMult\": Method(head=('fracMult', '?xn', '?yn', '?xd', '?yd'),\n",
    "                            conditions=[{('value', '?xn', '?vnx'), ('value', '?yn', '?vny'), ('value', '?xd', '?vxd'), ('value', '?yd', '?vyd')}],\n",
    "                            subtasks=[[Task(head=('intMult', 'xn', 'yn', 'nom'), primitive=True), Task(head=('intMult', 'xd', 'yd', 'denom'), primitive=True)]]),\n",
    "                            \n",
    "        \"add\": Method(head=('add',),\n",
    "                      conditions=[{('value', '?xn', '?vnx'), ('value', '?yn', '?vny'), ('value', '?xd', '?vdx'), ('value', '?yd', '?vdy')},\n",
    "                                  {('value', '?x', '?vx'), ('value', '?y', '?vy')}],\n",
    "                      subtasks=[Task(head=('fracAdd', 'xn', 'yn', 'xd', 'yd'), primitive=False),\n",
    "                                Task(head=('intAdd', 'x', 'y', 'ans'), primitive=True)]),\n",
    "\n",
    "        \"mult\": Method(head=('mult',),\n",
    "                          conditions=[{('value', '?xn', '?vnx'), ('value', '?yn', '?vny'), ('value', '?xd', '?vdx'), ('value', '?yd', '?vdy')},\n",
    "                                      {('value', '?x', '?vx'), ('value', '?y', '?vy')}],\n",
    "                          subtasks=[Task(head=('fracMult', 'xn', 'yn', 'xd', 'yd'), primitive=False),\n",
    "                                    Task(head=('intMult', 'x', 'y', 'ans'), primitive=True)]),\n",
    "                                    \n",
    "        \"solve\":  Method(head=('solve',),\n",
    "                     conditions=[{('operator', '?op', '+')}, {('operator', '?op', '*')}],\n",
    "                     subtasks=[Task(head=('add',), primitive=False), Task(head=('mult',), primitive=False)])\n",
    "    }\n",
    "\n",
    "if __name__ == \"__main__\":\n",
    "\n",
    "    numerator_x, numerator_y = 1, 1\n",
    "    denominator_x, denominator_y = 6, 6\n",
    "    operator = \"+\"\n",
    "    state = set([('value', 'xn', numerator_x), ('value', 'yn', numerator_y), ('value', 'xd', denominator_x), ('value', 'yd', denominator_y),('operator', 'op', operator)])\n",
    "    # state = set([('value', 'xn', numerator_x), ('value', 'yn', numerator_y), ('operator', 'op', operator)])\n",
    "\n",
    "    Tasks = [Task(head=('solve',), primitive=False)]\n",
    "\n",
    "    if result := SHOP2(state, Tasks, Domain): \n",
    "        plan, nstate = result\n",
    "        print(\"PLAN:\\n{}\\n\\nOLD STATE:\\n{}\\n\\nNEW STATE:\\n{}\".format(plan, state, nstate))\n",
    "    else:\n",
    "        print(\"No plan found\")\n",
    "    "
   ]
  },
  {
   "cell_type": "code",
   "execution_count": null,
   "metadata": {},
   "outputs": [],
   "source": []
  }
 ],
 "metadata": {
  "kernelspec": {
   "display_name": "Python 3",
   "language": "python",
   "name": "python3"
  },
  "language_info": {
   "codemirror_mode": {
    "name": "ipython",
    "version": 3
   },
   "file_extension": ".py",
   "mimetype": "text/x-python",
   "name": "python",
   "nbconvert_exporter": "python",
   "pygments_lexer": "ipython3",
   "version": "3.11.6"
  }
 },
 "nbformat": 4,
 "nbformat_minor": 2
}
